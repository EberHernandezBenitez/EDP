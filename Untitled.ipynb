{
  "nbformat": 4,
  "nbformat_minor": 0,
  "metadata": {
    "colab": {
      "provenance": [],
      "authorship_tag": "ABX9TyPtqvwVgExU2VIam32fwQE6",
      "include_colab_link": true
    },
    "kernelspec": {
      "name": "python3",
      "display_name": "Python 3"
    },
    "language_info": {
      "name": "python"
    }
  },
  "cells": [
    {
      "cell_type": "markdown",
      "metadata": {
        "id": "view-in-github",
        "colab_type": "text"
      },
      "source": [
        "<a href=\"https://colab.research.google.com/github/EberHernandezBenitez/EDP/blob/main/Untitled.ipynb\" target=\"_parent\"><img src=\"https://colab.research.google.com/assets/colab-badge.svg\" alt=\"Open In Colab\"/></a>"
      ]
    },
    {
      "cell_type": "code",
      "execution_count": 2,
      "metadata": {
        "colab": {
          "base_uri": "https://localhost:8080/"
        },
        "id": "4CYdhlZagxCF",
        "outputId": "9d3d686f-7410-4926-b73c-a19ed8c54c1c"
      },
      "outputs": [
        {
          "output_type": "stream",
          "name": "stdout",
          "text": [
            "Clasificación de la EDP:\n",
            "Tipo: parabólica\n"
          ]
        }
      ],
      "source": [
        "\n",
        "import sympy as sp\n",
        "\n",
        "def clasificar_y_transformar_edp(edp_coef):\n",
        "    \"\"\"\n",
        "    Clasifica una EDP de segundo orden y la transforma a su forma canónica si es hiperbólica.\n",
        "\n",
        "    Args:\n",
        "        edp_coef: Diccionario con los coeficientes A, B, C, D, E, F de la EDP:\n",
        "                  Au_xx + Bu_xy + Cu_yy + Du_x + Eu_y + Fu = 0\n",
        "\n",
        "    Returns:\n",
        "        Un diccionario con:\n",
        "        - tipo_edp: \"hiperbólica\", \"parabólica\" o \"elíptica\"\n",
        "        - transformacion: Expresiones para ξ y η (si aplica)\n",
        "        - forma_canonica: La EDP en su forma canónica (si aplica)\n",
        "    \"\"\"\n",
        "    x, y = sp.symbols('x y')\n",
        "    A = edp_coef['A']\n",
        "    B = edp_coef['B']\n",
        "    C = edp_coef['C']\n",
        "\n",
        "    # 1. Calculamos el discriminante\n",
        "    discriminante = B**2 - 4*A*C\n",
        "\n",
        "    if discriminante > 0:\n",
        "        tipo = \"hiperbólica\"\n",
        "    elif discriminante == 0:\n",
        "        tipo = \"parabólica\"\n",
        "    else:\n",
        "        tipo = \"elíptica\"\n",
        "\n",
        "    resultado = {'tipo_edp': tipo}\n",
        "\n",
        "    # 2. Si es hiperbólica, calcular la transformación\n",
        "    if tipo == \"hiperbólica\":\n",
        "        sqrt_disc = sp.sqrt(discriminante)\n",
        "\n",
        "        ξ = (-(B + sqrt_disc)*x + 2*A*y)\n",
        "        η = (-(B - sqrt_disc)*x + 2*A*y)\n",
        "\n",
        "        resultado['transformacion'] = {'ξ': ξ, 'η': η}\n",
        "\n",
        "        # 3. Calcular la forma canónica (simplificada para este ejemplo)\n",
        "        # En la práctica habría que calcular las derivadas transformadas\n",
        "        forma_canonica = \"u_ξη + términos de primer orden = 0\"\n",
        "        resultado['forma_canonica'] = forma_canonica\n",
        "\n",
        "    return resultado\n",
        "\n",
        "# Ejemplo del pizarrón: u_xx - 4u_xy + 4u_yy + 2u_x + u_y + u = 0\n",
        "edp_ejemplo = {\n",
        "    'A': 1,   # coeficiente de u_xx\n",
        "    'B': -4,  # coeficiente de u_xy\n",
        "    'C': 4,   # coeficiente de u_yy\n",
        "    'D': 2,   # coeficiente de u_x\n",
        "    'E': 1,   # coeficiente de u_y\n",
        "    'F': 1    # coeficiente de u\n",
        "}\n",
        "\n",
        "resultado = clasificar_y_transformar_edp(edp_ejemplo)\n",
        "\n",
        "# Mostrar resultados\n",
        "print(\"Clasificación de la EDP:\")\n",
        "print(f\"Tipo: {resultado['tipo_edp']}\")\n",
        "\n",
        "if resultado['tipo_edp'] == \"hiperbólica\":\n",
        "    print(\"\\nTransformación a coordenadas características:\")\n",
        "    print(f\"ξ = {resultado['transformacion']['ξ']}\")\n",
        "    print(f\"η = {resultado['transformacion']['η']}\")\n",
        "\n",
        "    print(\"\\nForma canónica:\")\n",
        "    print(resultado['forma_canonica'])"
      ]
    }
  ]
}